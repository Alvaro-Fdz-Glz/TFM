{
  "nbformat": 4,
  "nbformat_minor": 0,
  "metadata": {
    "colab": {
      "name": "TFM.ipynb",
      "version": "0.3.2",
      "provenance": [],
      "collapsed_sections": [],
      "include_colab_link": true
    },
    "language_info": {
      "codemirror_mode": {
        "name": "ipython",
        "version": 3
      },
      "file_extension": ".py",
      "mimetype": "text/x-python",
      "name": "python",
      "nbconvert_exporter": "python",
      "pygments_lexer": "ipython3",
      "version": "3.7.1"
    },
    "kernelspec": {
      "name": "python3",
      "display_name": "Python 3"
    },
    "accelerator": "GPU"
  },
  "cells": [
    {
      "cell_type": "markdown",
      "metadata": {
        "id": "view-in-github",
        "colab_type": "text"
      },
      "source": [
        "<a href=\"https://colab.research.google.com/github/Alvaro-Fdz-Glz/TFM/blob/master/TFM.ipynb\" target=\"_parent\"><img src=\"https://colab.research.google.com/assets/colab-badge.svg\" alt=\"Open In Colab\"/></a>"
      ]
    },
    {
      "cell_type": "markdown",
      "metadata": {
        "id": "ah27wJ7oEJQE",
        "colab_type": "text"
      },
      "source": [
        "## Appendix - Experiment 1\n"
      ]
    },
    {
      "cell_type": "code",
      "metadata": {
        "id": "qvL_35xjL8LP",
        "colab_type": "code",
        "colab": {
          "base_uri": "https://localhost:8080/",
          "height": 50
        },
        "outputId": "cfb01bd0-275c-40b6-ab2c-7e0d6d6e269b"
      },
      "source": [
        "import pandas as pd\n",
        "import pandas as pd\n",
        "import numpy as np\n",
        "import matplotlib.pyplot as plt\n",
        "\n",
        "# Install the PyDrive wrapper & import libraries.\n",
        "# This only needs to be done once per notebook.\n",
        "!pip install -U -q PyDrive\n",
        "from pydrive.auth import GoogleAuth\n",
        "from pydrive.drive import GoogleDrive\n",
        "from google.colab import auth\n",
        "from oauth2client.client import GoogleCredentials\n",
        "\n",
        "# Authenticate and create the PyDrive client.\n",
        "# This only needs to be done once per notebook.\n",
        "auth.authenticate_user()\n",
        "gauth = GoogleAuth()\n",
        "gauth.credentials = GoogleCredentials.get_application_default()\n",
        "drive = GoogleDrive(gauth)\n",
        "\n",
        "# Download a file based on its file ID.\n"
      ],
      "execution_count": 25,
      "outputs": [
        {
          "output_type": "stream",
          "text": [
            "\u001b[?25l\r\u001b[K     |▎                               | 10kB 20.8MB/s eta 0:00:01\r\u001b[K     |▋                               | 20kB 7.0MB/s eta 0:00:01\r\u001b[K     |█                               | 30kB 9.9MB/s eta 0:00:01\r\u001b[K     |█▎                              | 40kB 6.0MB/s eta 0:00:01\r\u001b[K     |█▋                              | 51kB 7.3MB/s eta 0:00:01\r\u001b[K     |██                              | 61kB 8.6MB/s eta 0:00:01\r\u001b[K     |██▎                             | 71kB 9.8MB/s eta 0:00:01\r\u001b[K     |██▋                             | 81kB 11.0MB/s eta 0:00:01\r\u001b[K     |███                             | 92kB 12.2MB/s eta 0:00:01\r\u001b[K     |███▎                            | 102kB 9.6MB/s eta 0:00:01\r\u001b[K     |███▋                            | 112kB 9.6MB/s eta 0:00:01\r\u001b[K     |████                            | 122kB 9.6MB/s eta 0:00:01\r\u001b[K     |████▎                           | 133kB 9.6MB/s eta 0:00:01\r\u001b[K     |████▋                           | 143kB 9.6MB/s eta 0:00:01\r\u001b[K     |█████                           | 153kB 9.6MB/s eta 0:00:01\r\u001b[K     |█████▎                          | 163kB 9.6MB/s eta 0:00:01\r\u001b[K     |█████▋                          | 174kB 9.6MB/s eta 0:00:01\r\u001b[K     |██████                          | 184kB 9.6MB/s eta 0:00:01\r\u001b[K     |██████▎                         | 194kB 9.6MB/s eta 0:00:01\r\u001b[K     |██████▋                         | 204kB 9.6MB/s eta 0:00:01\r\u001b[K     |███████                         | 215kB 9.6MB/s eta 0:00:01\r\u001b[K     |███████▎                        | 225kB 9.6MB/s eta 0:00:01\r\u001b[K     |███████▋                        | 235kB 9.6MB/s eta 0:00:01\r\u001b[K     |████████                        | 245kB 9.6MB/s eta 0:00:01\r\u001b[K     |████████▎                       | 256kB 9.6MB/s eta 0:00:01\r\u001b[K     |████████▋                       | 266kB 9.6MB/s eta 0:00:01\r\u001b[K     |█████████                       | 276kB 9.6MB/s eta 0:00:01\r\u001b[K     |█████████▎                      | 286kB 9.6MB/s eta 0:00:01\r\u001b[K     |█████████▋                      | 296kB 9.6MB/s eta 0:00:01\r\u001b[K     |██████████                      | 307kB 9.6MB/s eta 0:00:01\r\u001b[K     |██████████▎                     | 317kB 9.6MB/s eta 0:00:01\r\u001b[K     |██████████▋                     | 327kB 9.6MB/s eta 0:00:01\r\u001b[K     |███████████                     | 337kB 9.6MB/s eta 0:00:01\r\u001b[K     |███████████▎                    | 348kB 9.6MB/s eta 0:00:01\r\u001b[K     |███████████▋                    | 358kB 9.6MB/s eta 0:00:01\r\u001b[K     |████████████                    | 368kB 9.6MB/s eta 0:00:01\r\u001b[K     |████████████▎                   | 378kB 9.6MB/s eta 0:00:01\r\u001b[K     |████████████▋                   | 389kB 9.6MB/s eta 0:00:01\r\u001b[K     |█████████████                   | 399kB 9.6MB/s eta 0:00:01\r\u001b[K     |█████████████▎                  | 409kB 9.6MB/s eta 0:00:01\r\u001b[K     |█████████████▋                  | 419kB 9.6MB/s eta 0:00:01\r\u001b[K     |██████████████                  | 430kB 9.6MB/s eta 0:00:01\r\u001b[K     |██████████████▎                 | 440kB 9.6MB/s eta 0:00:01\r\u001b[K     |██████████████▋                 | 450kB 9.6MB/s eta 0:00:01\r\u001b[K     |███████████████                 | 460kB 9.6MB/s eta 0:00:01\r\u001b[K     |███████████████▎                | 471kB 9.6MB/s eta 0:00:01\r\u001b[K     |███████████████▋                | 481kB 9.6MB/s eta 0:00:01\r\u001b[K     |████████████████                | 491kB 9.6MB/s eta 0:00:01\r\u001b[K     |████████████████▎               | 501kB 9.6MB/s eta 0:00:01\r\u001b[K     |████████████████▋               | 512kB 9.6MB/s eta 0:00:01\r\u001b[K     |█████████████████               | 522kB 9.6MB/s eta 0:00:01\r\u001b[K     |█████████████████▎              | 532kB 9.6MB/s eta 0:00:01\r\u001b[K     |█████████████████▋              | 542kB 9.6MB/s eta 0:00:01\r\u001b[K     |██████████████████              | 552kB 9.6MB/s eta 0:00:01\r\u001b[K     |██████████████████▎             | 563kB 9.6MB/s eta 0:00:01\r\u001b[K     |██████████████████▋             | 573kB 9.6MB/s eta 0:00:01\r\u001b[K     |███████████████████             | 583kB 9.6MB/s eta 0:00:01\r\u001b[K     |███████████████████▎            | 593kB 9.6MB/s eta 0:00:01\r\u001b[K     |███████████████████▋            | 604kB 9.6MB/s eta 0:00:01\r\u001b[K     |████████████████████            | 614kB 9.6MB/s eta 0:00:01\r\u001b[K     |████████████████████▎           | 624kB 9.6MB/s eta 0:00:01\r\u001b[K     |████████████████████▋           | 634kB 9.6MB/s eta 0:00:01\r\u001b[K     |█████████████████████           | 645kB 9.6MB/s eta 0:00:01\r\u001b[K     |█████████████████████▎          | 655kB 9.6MB/s eta 0:00:01\r\u001b[K     |█████████████████████▋          | 665kB 9.6MB/s eta 0:00:01\r\u001b[K     |██████████████████████          | 675kB 9.6MB/s eta 0:00:01\r\u001b[K     |██████████████████████▎         | 686kB 9.6MB/s eta 0:00:01\r\u001b[K     |██████████████████████▋         | 696kB 9.6MB/s eta 0:00:01\r\u001b[K     |███████████████████████         | 706kB 9.6MB/s eta 0:00:01\r\u001b[K     |███████████████████████▎        | 716kB 9.6MB/s eta 0:00:01\r\u001b[K     |███████████████████████▋        | 727kB 9.6MB/s eta 0:00:01\r\u001b[K     |████████████████████████        | 737kB 9.6MB/s eta 0:00:01\r\u001b[K     |████████████████████████▎       | 747kB 9.6MB/s eta 0:00:01\r\u001b[K     |████████████████████████▋       | 757kB 9.6MB/s eta 0:00:01\r\u001b[K     |████████████████████████▉       | 768kB 9.6MB/s eta 0:00:01\r\u001b[K     |█████████████████████████▏      | 778kB 9.6MB/s eta 0:00:01\r\u001b[K     |█████████████████████████▌      | 788kB 9.6MB/s eta 0:00:01\r\u001b[K     |█████████████████████████▉      | 798kB 9.6MB/s eta 0:00:01\r\u001b[K     |██████████████████████████▏     | 808kB 9.6MB/s eta 0:00:01\r\u001b[K     |██████████████████████████▌     | 819kB 9.6MB/s eta 0:00:01\r\u001b[K     |██████████████████████████▉     | 829kB 9.6MB/s eta 0:00:01\r\u001b[K     |███████████████████████████▏    | 839kB 9.6MB/s eta 0:00:01\r\u001b[K     |███████████████████████████▌    | 849kB 9.6MB/s eta 0:00:01\r\u001b[K     |███████████████████████████▉    | 860kB 9.6MB/s eta 0:00:01\r\u001b[K     |████████████████████████████▏   | 870kB 9.6MB/s eta 0:00:01\r\u001b[K     |████████████████████████████▌   | 880kB 9.6MB/s eta 0:00:01\r\u001b[K     |████████████████████████████▉   | 890kB 9.6MB/s eta 0:00:01\r\u001b[K     |█████████████████████████████▏  | 901kB 9.6MB/s eta 0:00:01\r\u001b[K     |█████████████████████████████▌  | 911kB 9.6MB/s eta 0:00:01\r\u001b[K     |█████████████████████████████▉  | 921kB 9.6MB/s eta 0:00:01\r\u001b[K     |██████████████████████████████▏ | 931kB 9.6MB/s eta 0:00:01\r\u001b[K     |██████████████████████████████▌ | 942kB 9.6MB/s eta 0:00:01\r\u001b[K     |██████████████████████████████▉ | 952kB 9.6MB/s eta 0:00:01\r\u001b[K     |███████████████████████████████▏| 962kB 9.6MB/s eta 0:00:01\r\u001b[K     |███████████████████████████████▌| 972kB 9.6MB/s eta 0:00:01\r\u001b[K     |███████████████████████████████▉| 983kB 9.6MB/s eta 0:00:01\r\u001b[K     |████████████████████████████████| 993kB 9.6MB/s \n",
            "\u001b[?25h  Building wheel for PyDrive (setup.py) ... \u001b[?25l\u001b[?25hdone\n"
          ],
          "name": "stdout"
        }
      ]
    },
    {
      "cell_type": "code",
      "metadata": {
        "id": "U3Yl2syJP7Eg",
        "colab_type": "code",
        "colab": {}
      },
      "source": [
        "# A file ID looks like: laggVyWshwcyP6kEI-y_W3P8D26sz\n",
        "file_id = '1KLNitsvBYGXnfch59-cqMrQKjRXa1Twf'\n",
        "downloaded = drive.CreateFile({'id': file_id})\n",
        "#print('Downloaded content \"{}\"'.format(downloaded.GetContentString()))\n",
        "\n",
        "downloaded.GetContentFile('sellout-proveedor2.csv')  \n",
        "val_2 = pd.read_csv('sellout-proveedor2.csv')\n",
        "\n",
        "\n",
        "# A file ID looks like: laggVyWshwcyP6kEI-y_W3P8D26sz\n",
        "file_id = '1Bv0WMQMeHGbWEf9FA2cHqUUa0oHe-fA7'\n",
        "downloaded = drive.CreateFile({'id': file_id})\n",
        "#print('Downloaded content \"{}\"'.format(downloaded.GetContentString()))\n",
        "\n",
        "downloaded.GetContentFile('sellout-proveedor1.csv')  \n",
        "val = pd.read_csv('sellout-proveedor1.csv')\n",
        "\n",
        "def replacedollar(vl):\n",
        "    vl=vl.replace(\"$\",\"\") \n",
        "    return np.float(vl)\n",
        "\n",
        "val_2.Price=val_2.Price.map(replacedollar)\n",
        "\n",
        "val_2.columns=list(val)\n"
      ],
      "execution_count": 0,
      "outputs": []
    },
    {
      "cell_type": "code",
      "metadata": {
        "id": "8np8NVWoSTnB",
        "colab_type": "code",
        "outputId": "b8aafdf7-4370-4275-931b-605c762d816d",
        "colab": {
          "base_uri": "https://localhost:8080/",
          "height": 195
        }
      },
      "source": [
        "#Exploring the data\n",
        "val.head() "
      ],
      "execution_count": 48,
      "outputs": [
        {
          "output_type": "execute_result",
          "data": {
            "text/html": [
              "<div>\n",
              "<style scoped>\n",
              "    .dataframe tbody tr th:only-of-type {\n",
              "        vertical-align: middle;\n",
              "    }\n",
              "\n",
              "    .dataframe tbody tr th {\n",
              "        vertical-align: top;\n",
              "    }\n",
              "\n",
              "    .dataframe thead th {\n",
              "        text-align: right;\n",
              "    }\n",
              "</style>\n",
              "<table border=\"1\" class=\"dataframe\">\n",
              "  <thead>\n",
              "    <tr style=\"text-align: right;\">\n",
              "      <th></th>\n",
              "      <th>Sku</th>\n",
              "      <th>Date</th>\n",
              "      <th>Store_Id</th>\n",
              "      <th>Units</th>\n",
              "      <th>Price</th>\n",
              "    </tr>\n",
              "  </thead>\n",
              "  <tbody>\n",
              "    <tr>\n",
              "      <th>0</th>\n",
              "      <td>4220015</td>\n",
              "      <td>2017-01-01 SO Diaria Piezas</td>\n",
              "      <td>18</td>\n",
              "      <td>6.0</td>\n",
              "      <td>15.6</td>\n",
              "    </tr>\n",
              "    <tr>\n",
              "      <th>1</th>\n",
              "      <td>4220015</td>\n",
              "      <td>2017-01-01 SO Diaria Piezas</td>\n",
              "      <td>24</td>\n",
              "      <td>0.0</td>\n",
              "      <td>0.0</td>\n",
              "    </tr>\n",
              "    <tr>\n",
              "      <th>2</th>\n",
              "      <td>4220015</td>\n",
              "      <td>2017-01-01 SO Diaria Piezas</td>\n",
              "      <td>39</td>\n",
              "      <td>0.0</td>\n",
              "      <td>0.0</td>\n",
              "    </tr>\n",
              "    <tr>\n",
              "      <th>3</th>\n",
              "      <td>4220015</td>\n",
              "      <td>2017-01-01 SO Diaria Piezas</td>\n",
              "      <td>44</td>\n",
              "      <td>0.0</td>\n",
              "      <td>0.0</td>\n",
              "    </tr>\n",
              "    <tr>\n",
              "      <th>4</th>\n",
              "      <td>4220015</td>\n",
              "      <td>2017-01-01 SO Diaria Piezas</td>\n",
              "      <td>46</td>\n",
              "      <td>0.0</td>\n",
              "      <td>0.0</td>\n",
              "    </tr>\n",
              "  </tbody>\n",
              "</table>\n",
              "</div>"
            ],
            "text/plain": [
              "       Sku                         Date  Store_Id  Units  Price\n",
              "0  4220015  2017-01-01 SO Diaria Piezas        18    6.0   15.6\n",
              "1  4220015  2017-01-01 SO Diaria Piezas        24    0.0    0.0\n",
              "2  4220015  2017-01-01 SO Diaria Piezas        39    0.0    0.0\n",
              "3  4220015  2017-01-01 SO Diaria Piezas        44    0.0    0.0\n",
              "4  4220015  2017-01-01 SO Diaria Piezas        46    0.0    0.0"
            ]
          },
          "metadata": {
            "tags": []
          },
          "execution_count": 48
        }
      ]
    },
    {
      "cell_type": "code",
      "metadata": {
        "id": "LmB7_Rp5IQaW",
        "colab_type": "code",
        "colab": {}
      },
      "source": [
        "d={}\n",
        "#Obtaining the list of different products \n",
        "t=np.unique(val.Sku)\n",
        "\n",
        "#Spliting the information by each shop\n",
        "for shop in np.unique(val.Store_Id)[0:4]:\n",
        "    temp=val[val.Store_Id==shop]\n",
        "    dat=pd.DataFrame()\n",
        "    for i in t:\n",
        "        try:\n",
        "            #Differencing values with previous day sales                     \n",
        "            dat[i]=np.array((temp.Units[temp.Sku==i]*temp.Price[temp.Sku==i]))\n",
        "            dat[i]=dat[i].diff()\n",
        "        except:\n",
        "            dat[i]=0\n",
        "        #print(dat[i].diff())\n",
        "    dat=dat.fillna(0)\n",
        "    d[shop]=dat"
      ],
      "execution_count": 0,
      "outputs": []
    },
    {
      "cell_type": "code",
      "metadata": {
        "id": "945_7l0YY9m6",
        "colab_type": "code",
        "colab": {}
      },
      "source": [
        "#Number of images generated for each shop\n",
        "num_images=100 \n",
        "# Number of columns selected for each transformation\n",
        "num_columns_transformation=10 \n",
        "# Number of experiments\n",
        "num_transformations=30 \n",
        "transformations=pd.DataFrame()\n",
        "\n",
        "# Random choice of the columns for defining each experiment\n",
        "for i in range(num_transformations): \n",
        "    columns=np.random.choice(a=29,replace=False,size=num_columns_transformation)\n",
        "    transformations[i]=columns\n",
        "    \n",
        "# Giving the matrix the desired format    \n",
        "transformations=transformations.transpose()"
      ],
      "execution_count": 0,
      "outputs": []
    },
    {
      "cell_type": "code",
      "metadata": {
        "id": "y1uP2YUxIYUn",
        "colab_type": "code",
        "colab": {}
      },
      "source": [
        "#Initializing an empty data frame for the new dataset to be predicted\n",
        "data_shop=pd.DataFrame()\n",
        "#Generating random numbers for obtaining new instances\n",
        "rows=np.random.choice(a=140,replace=False,size=num_images) \n",
        "for trans in range(num_transformations):\n",
        "    data=pd.DataFrame()\n",
        "    # Following loop generates the new instances \n",
        "    for i in range(num_images): \n",
        "        img=d[4].iloc[rows[i]:rows[i]+7,transformations.iloc[trans,:]]\n",
        "        img_fl=np.array(img).flatten()\n",
        "        # Standardizing the \n",
        "        img_fl-=img_fl.min()\n",
        "        img_fl/=img_fl.max()\n",
        "        # Number of bins for the computation of the histogram\n",
        "        bins_val=20\n",
        "        # Standardization of the histogram\n",
        "        img_fl_hist=np.histogram(img_fl,bins=bins_val)[0]/sum(np.histogram(img_fl,bins=bins_val)[0]) \n",
        "        data[i]=img_fl_hist\n",
        "    data=data.transpose()\n",
        "    #Labeling the new instance\n",
        "    data['label']=trans \n",
        "    data.index=rows\n",
        "    #Concetanating the new instance to the entire previous instances\n",
        "    data_shop=pd.concat([data_shop,data]) "
      ],
      "execution_count": 0,
      "outputs": []
    },
    {
      "cell_type": "code",
      "metadata": {
        "id": "PeWhxx--Iab9",
        "colab_type": "code",
        "colab": {}
      },
      "source": [
        "from xgboost import XGBClassifier\n",
        "from sklearn.model_selection import train_test_split \n",
        "\n",
        "#Spliting into train/test\n",
        "X_train, X_test, y_train, y_test = train_test_split(data_shop.iloc[:,:20], data_shop.iloc[:,20], train_size=0.75, test_size=0.25) "
      ],
      "execution_count": 0,
      "outputs": []
    },
    {
      "cell_type": "code",
      "metadata": {
        "id": "vBXhH9ItIdNM",
        "colab_type": "code",
        "colab": {}
      },
      "source": [
        "from xgboost import XGBClassifier\n",
        "from sklearn.model_selection import RandomizedSearchCV\n",
        "\n",
        "X=data_shop.iloc[:,:20] \n",
        "y=data_shop.iloc[:,20]\n",
        "\n",
        "#Defining a list of posible values for number of estimators for the xgboost\n",
        "val=[i*50 for i in np.arange(7,10)] \n",
        "randm_params={'n_estimators':val,\n",
        "           'max_depth':np.arange(2,6),\n",
        "            'learning_rate':np.linspace(start=.005,stop=.1,num=10)}\n",
        "\n",
        "#Randomized search of the best parameters for the tunning the classifier\n",
        "rscv=RandomizedSearchCV(n_jobs=-1,cv=3,param_distributions=randm_params,estimator=XGBClassifier(),n_iter=1) \n",
        "rscv.fit(X,y)\n",
        "param_=rscv.best_params_"
      ],
      "execution_count": 0,
      "outputs": []
    },
    {
      "cell_type": "code",
      "metadata": {
        "id": "I6dsHkpmIh1i",
        "colab_type": "code",
        "colab": {}
      },
      "source": [
        "# Manually imputing the best parameteres obtained from prevoius random search\n",
        "xgbc=XGBClassifier(learning_rate=0.02611,max_depth=4,n_estimators=400,objective='multi:softprob') \n",
        "# Fiting the classifier\n",
        "xgbc.fit(X_train,y_train) \n",
        "\n",
        "temp=xgbc.predict_proba(X_test) # Using the model to predict the class\n",
        "\n",
        "val=[]\n",
        "for i in range(temp.shape[0]):\n",
        "  #Obtaining the sum of the exponential of the probabilities\n",
        "    val.append(np.exp(temp[i]).sum()) \n",
        "    \n",
        "import seaborn as sns"
      ],
      "execution_count": 0,
      "outputs": []
    },
    {
      "cell_type": "code",
      "metadata": {
        "id": "PJbIiq3uIl71",
        "colab_type": "code",
        "outputId": "c37f7860-becb-4f11-c98d-1a76967cf81a",
        "colab": {
          "base_uri": "https://localhost:8080/",
          "height": 269
        }
      },
      "source": [
        "freq=plt.hist(X_test.index[np.array(val)>31.2],bins=120)"
      ],
      "execution_count": 73,
      "outputs": [
        {
          "output_type": "display_data",
          "data": {
            "image/png": "[encoded data removed]",
            "text/plain": [
              "<Figure size 432x288 with 1 Axes>"
            ]
          },
          "metadata": {
            "tags": []
          }
        }
      ]
    },
    {
      "cell_type": "code",
      "metadata": {
        "id": "bHRNxgw8IsVb",
        "colab_type": "code",
        "outputId": "929fdbae-1579-40a9-e715-9054c9779131",
        "colab": {
          "base_uri": "https://localhost:8080/",
          "height": 34
        }
      },
      "source": [
        "#Obtaining the image with the highest values \n",
        "np.where(freq[0]==np.max(freq[0])) "
      ],
      "execution_count": 74,
      "outputs": [
        {
          "output_type": "execute_result",
          "data": {
            "text/plain": [
              "(array([ 26, 109, 113, 114]),)"
            ]
          },
          "metadata": {
            "tags": []
          },
          "execution_count": 74
        }
      ]
    },
    {
      "cell_type": "markdown",
      "metadata": {
        "id": "IJPtH-s8EDXh",
        "colab_type": "text"
      },
      "source": [
        "## Appendix - Experiment 2"
      ]
    },
    {
      "cell_type": "code",
      "metadata": {
        "id": "ZMy5xh6sVEnm",
        "colab_type": "code",
        "colab": {}
      },
      "source": [
        "#Importing the requires libraries\n",
        "import torch\n",
        "import numpy as np\n",
        "from sklearn import preprocessing\n",
        "from sklearn.datasets import load_breast_cancer\n",
        "#Importing the dataset from sklearn\n",
        "dataset=load_breast_cancer() \n",
        "\n",
        "#Set seed for reproducibility of the experiments\n",
        "np.random.seed(0) "
      ],
      "execution_count": 0,
      "outputs": []
    },
    {
      "cell_type": "code",
      "metadata": {
        "id": "YxQetYvAUyK2",
        "colab_type": "code",
        "colab": {}
      },
      "source": [
        "num_experiments=40 #Defining the number of experiments\n",
        "partition={}\n",
        "temp=np.arange(dataset.target.shape[0])\n",
        "# Defining the normal class / outliers\n",
        "\n",
        "partition['positive']=np.array(temp[dataset.target==1])\n",
        "partition['negative']=np.array(temp[dataset.target==0])\n",
        "##\n",
        "partition['positive_train']=np.random.choice(partition['positive'], int(partition['positive'].shape[0]*0.80), replace=False)\n",
        "partition['positive_test']=np.setdiff1d(partition['positive'],partition['positive_train'])\n",
        "\n",
        "partition['negative_train']=np.random.choice(partition['negative'], int(partition['negative'].shape[0]*0.80), replace=False)\n",
        "partition['negative_test']=np.setdiff1d(partition['negative'],partition['negative_train'])\n",
        "\n",
        "##\n",
        "partition['positive_transformed']=np.array([np.array(partition['positive'])+i*dataset.data.shape[0] for i in range(num_experiments)]).flatten()\n",
        "partition['negative_transformed']=np.array([np.array(partition['negative'])+i*dataset.data.shape[0] for i in range(num_experiments)]).flatten()\n",
        "##\n",
        "partition['positive_transformed_train']=np.array([np.array(partition['positive_train'])+i*dataset.data.shape[0] for i in range(num_experiments)]).flatten()\n",
        "partition['positive_transformed_test']=np.setdiff1d(partition['positive_transformed'],partition['positive_transformed_train'])\n",
        "\n",
        "partition['negative_transformed_train']=np.array([np.array(partition['negative_train'])+i*dataset.data.shape[0] for i in range(num_experiments)]).flatten()\n",
        "partition['negative_transformed_test']=np.setdiff1d(partition['negative_transformed'],partition['negative_transformed_train'])\n"
      ],
      "execution_count": 0,
      "outputs": []
    },
    {
      "cell_type": "code",
      "metadata": {
        "id": "ZdCjEAiBpJpS",
        "colab_type": "code",
        "colab": {}
      },
      "source": [
        "# Preprocessing the information, fitting the standard scaler \n",
        "std_scaler=preprocessing.StandardScaler().fit(dataset.data[partition['negative_train']]) \n",
        "# Scaling the whole dataset\n",
        "dataset.data=std_scaler.transform(dataset.data) \n"
      ],
      "execution_count": 0,
      "outputs": []
    },
    {
      "cell_type": "code",
      "metadata": {
        "id": "gejH67R9xz67",
        "colab_type": "code",
        "colab": {}
      },
      "source": [
        " #Transforming from numpy to torch tensor to pass through the neural network\n",
        "X_tensor=torch.tensor(np.array(dataset.data))\n",
        "# Formating the values\n",
        "X_tensor=X_tensor.float() "
      ],
      "execution_count": 0,
      "outputs": []
    },
    {
      "cell_type": "code",
      "metadata": {
        "id": "QqzZAlvnvRdm",
        "colab_type": "code",
        "colab": {}
      },
      "source": [
        "import torch\n",
        "from torchvision import datasets, transforms\n",
        "from torch import nn, optim\n",
        "import torch.nn.functional as F\n",
        "\n",
        "class Classifier(nn.Module):\n",
        "    def __init__(self):\n",
        "        super().__init__()\n",
        "        # Defining first layer for the first forward function\n",
        "        self.fc1 = nn.Linear(30, 300) \n",
        "        # Defining output layer for second forward function\n",
        "        self.fc2 = nn.Linear(300, 30)\n",
        "        # Defining first layer for second forward function\n",
        "        self.fc3 = nn.Linear(30, 300) \n",
        "        # Defining output layer for second forward function\n",
        "        self.fc4 = nn.Linear(300, 30)\n",
        "       \n",
        "    def forward(self, x,layer=1):\n",
        "        # make sure input tensor is flattened\n",
        "        x = x.view(-1,x.shape[0])\n",
        "        # Creating one of the neural networks for making the tranformations\n",
        "        for i in range(layer):\n",
        "          x = F.relu(self.fc1(x))\n",
        "          x = F.celu(self.fc2(x))\n",
        "        return x\n",
        "      \n",
        "    def forward_1(self, x,layer=1):\n",
        "        # make sure input tensor is flattened\n",
        "        x = x.view(-1,x.shape[0])\n",
        "        # Creating one of the neural networks for making the transformations\n",
        "\n",
        "        for i in range(layer):\n",
        "          x = F.celu(self.fc3(x))\n",
        "          x = F.celu(self.fc4(x))\n",
        "        return x"
      ],
      "execution_count": 0,
      "outputs": []
    },
    {
      "cell_type": "code",
      "metadata": {
        "id": "PDB1YqiRB63d",
        "colab_type": "code",
        "colab": {}
      },
      "source": [
        "torch.manual_seed(3)\n",
        "label=np.empty((0))\n",
        "rep=2\n",
        "\n",
        "val_2=torch.Tensor(0,30) \n",
        "\n",
        "# This loop creates the new instances\n",
        "for idx in range(num_experiments): \n",
        "  # New neural network definition per each experiment\n",
        "  temp=Classifier() \n",
        "  if idx<=10:\n",
        "    val_1=torch.Tensor(0,30)\n",
        "    for x in X_tensor:\n",
        "      # Generating new instances\n",
        "      val_1=torch.cat((val_1,temp.forward(x,rep))) \n",
        "      #Generating the label for new instance\n",
        "      label=np.append(label,idx) \n",
        "      #Scaling the results from the instance definition\n",
        "    scaler = preprocessing.StandardScaler().fit(val_1.detach().numpy()) \n",
        "    val_1=torch.tensor(scaler.fit_transform(val_1.detach().numpy())) \n",
        "  \n",
        "  if idx>10:\n",
        "    val_1=torch.Tensor(0,30)\n",
        "    for x in X_tensor:\n",
        "      val_1=torch.cat((val_1,temp.forward_1(x,rep)))\n",
        "      label=np.append(label,idx)\n",
        "    scaler = preprocessing.StandardScaler().fit(val_1.detach().numpy())\n",
        "    val_1=torch.tensor(scaler.fit_transform(val_1.detach().numpy()))\n",
        "  \n",
        "      \n",
        "  val_2=torch.cat((val_2,val_1))\n",
        "# Detaching torch tensor to use it as  numpy array\n",
        "val=val_2.detach().numpy() \n"
      ],
      "execution_count": 0,
      "outputs": []
    },
    {
      "cell_type": "code",
      "metadata": {
        "id": "YuidXJpTU4ja",
        "colab_type": "code",
        "collapsed": true,
        "outputId": "a2f1a615-a472-4d73-a246-5e939e7b563e",
        "colab": {
          "base_uri": "https://localhost:8080/",
          "height": 134
        }
      },
      "source": [
        "from xgboost import XGBClassifier\n",
        "from sklearn.ensemble import RandomForestClassifier\n",
        "\n",
        "# Generating new xgboost classifier\n",
        "xgbc=XGBClassifier(n_estimators=150,objective='multi:softprob') \n",
        "# Fiting the classifier\n",
        "xgbc.fit(val[partition['negative_transformed_train']],\n",
        "         label[partition['negative_transformed_train']])\n"
      ],
      "execution_count": 81,
      "outputs": [
        {
          "output_type": "execute_result",
          "data": {
            "text/plain": [
              "XGBClassifier(base_score=0.5, booster='gbtree', colsample_bylevel=1,\n",
              "              colsample_bynode=1, colsample_bytree=1, gamma=0,\n",
              "              learning_rate=0.1, max_delta_step=0, max_depth=3,\n",
              "              min_child_weight=1, missing=None, n_estimators=150, n_jobs=1,\n",
              "              nthread=None, objective='multi:softprob', random_state=0,\n",
              "              reg_alpha=0, reg_lambda=1, scale_pos_weight=1, seed=None,\n",
              "              silent=None, subsample=1, verbosity=1)"
            ]
          },
          "metadata": {
            "tags": []
          },
          "execution_count": 81
        }
      ]
    },
    {
      "cell_type": "code",
      "metadata": {
        "id": "pYK5bR_pI_ee",
        "colab_type": "code",
        "colab": {}
      },
      "source": [
        "step=dataset.data.shape[0]\n",
        "#Making predictions  of the whole instances obtained applying the transformation\n",
        "result=np.exp(xgbc.predict_proba(val)).sum(axis=1) \n",
        "\n",
        "#Averaging the score of the transformed instances\n",
        "normality_score=np.array([np.mean([result[i+j*step] for j in range(num_experiments)]) for i in range(step)]) "
      ],
      "execution_count": 0,
      "outputs": []
    },
    {
      "cell_type": "code",
      "metadata": {
        "id": "Ga9YykeF-Onv",
        "colab_type": "code",
        "colab": {}
      },
      "source": [
        "#Defining an auxiliary function for plotting results\n",
        "def ecdf(data,right=True): \n",
        "    \"\"\" Compute ECDF \"\"\"\n",
        "    x = np.sort(data)\n",
        "    if not(right):\n",
        "      x=x[::-1]\n",
        "    n = x.size\n",
        "    y = np.arange(1, n+1) / n\n",
        "    return(x,y)\n",
        "  \n"
      ],
      "execution_count": 0,
      "outputs": []
    },
    {
      "cell_type": "code",
      "metadata": {
        "id": "Sbm2L_VaaDZe",
        "colab_type": "code",
        "outputId": "c7648fcf-db43-4c1c-d317-1f5a27b12a8f",
        "colab": {
          "base_uri": "https://localhost:8080/",
          "height": 281
        }
      },
      "source": [
        "# Plotting the results\n",
        "import numpy as np\n",
        "import matplotlib.pyplot as plt\n",
        "\n",
        "from scipy.interpolate import splrep, splev\n",
        "\n",
        "(x,y)=ecdf(normality_score[partition['positive']],right=False)\n",
        "\n",
        "plt.plot(x,y,label='Outliers')\n",
        "\n",
        "(x,y)=ecdf(normality_score[partition['negative_test']])\n",
        "\n",
        "bspl = splrep(x,y,s=5)\n",
        "bspl_y = splev(x,bspl)\n",
        "plt.plot(x,bspl_y,label='Normal Class')\n",
        "\n",
        "plt.legend()\n",
        "plt.title(\"Normality Scoring Results\")\n",
        "plt.show()\n",
        "\n"
      ],
      "execution_count": 84,
      "outputs": [
        {
          "output_type": "display_data",
          "data": {
            "image/png": "[encoded data removed]",
            "text/plain": [
              "<Figure size 432x288 with 1 Axes>"
            ]
          },
          "metadata": {
            "tags": []
          }
        }
      ]
    },
    {
      "cell_type": "code",
      "metadata": {
        "id": "-HZxMd4iLDfa",
        "colab_type": "code",
        "outputId": "0ea136fd-cfd4-4dff-d0f2-beaf7c9b7b00",
        "colab": {
          "base_uri": "https://localhost:8080/",
          "height": 281
        }
      },
      "source": [
        "import seaborn as sns\n",
        "\n",
        "plt.figure()\n",
        "\n",
        "a=sns.distplot(normality_score[partition['positive']],label='Outliers')\n",
        "a=sns.distplot(normality_score[partition['negative_test']],label=\"Normal Class\")\n",
        "\n",
        "plt.title(\"Histogram of scoring function\")\n",
        "plt.legend()\n",
        "plt.show()"
      ],
      "execution_count": 85,
      "outputs": [
        {
          "output_type": "display_data",
          "data": {
            "image/png": "[encoded data removed]",
            "text/plain": [
              "<Figure size 432x288 with 1 Axes>"
            ]
          },
          "metadata": {
            "tags": []
          }
        }
      ]
    },
    {
      "cell_type": "markdown",
      "metadata": {
        "id": "JGXSdU7pbnyH",
        "colab_type": "text"
      },
      "source": [
        "## Appendix 3"
      ]
    },
    {
      "cell_type": "code",
      "metadata": {
        "id": "osuP_p6fjM3b",
        "colab_type": "code",
        "colab": {}
      },
      "source": [
        "#For this experiment, the code used was the same as in the previous experiment\n",
        "import torch\n",
        "import numpy as np\n",
        "from sklearn import preprocessing\n",
        "from sklearn.datasets import load_digits\n",
        "\n",
        "dataset=load_digits()\n",
        "dataset.data.shape\n",
        "\n",
        "np.random.seed(0)"
      ],
      "execution_count": 0,
      "outputs": []
    },
    {
      "cell_type": "code",
      "metadata": {
        "id": "0qwGwjn4kK7N",
        "colab_type": "code",
        "outputId": "3cda431a-844b-4ee0-d275-fd557f017d27",
        "colab": {
          "base_uri": "https://localhost:8080/",
          "height": 34
        }
      },
      "source": [
        "np.unique(dataset.target)"
      ],
      "execution_count": 87,
      "outputs": [
        {
          "output_type": "execute_result",
          "data": {
            "text/plain": [
              "array([0, 1, 2, 3, 4, 5, 6, 7, 8, 9])"
            ]
          },
          "metadata": {
            "tags": []
          },
          "execution_count": 87
        }
      ]
    },
    {
      "cell_type": "code",
      "metadata": {
        "id": "P_E32HFljQ5V",
        "colab_type": "code",
        "colab": {}
      },
      "source": [
        "num_experiments=40\n",
        "partition={}\n",
        "temp=np.arange(dataset.target.shape[0])\n",
        "##\n",
        "partition['positive']=np.array(temp[dataset.target!=7])\n",
        "partition['negative']=np.array(temp[dataset.target==7])\n",
        "##\n",
        "partition['positive_train']=np.random.choice(partition['positive'], int(partition['positive'].shape[0]*0.90), replace=False)\n",
        "partition['positive_test']=np.setdiff1d(partition['positive'],partition['positive_train'])\n",
        "\n",
        "partition['negative_train']=np.random.choice(partition['negative'], int(partition['negative'].shape[0]*0.90), replace=False)\n",
        "partition['negative_test']=np.setdiff1d(partition['negative'],partition['negative_train'])\n",
        "\n",
        "##\n",
        "partition['positive_transformed']=np.array([np.array(partition['positive'])+i*dataset.data.shape[0] for i in range(num_experiments)]).flatten()\n",
        "partition['negative_transformed']=np.array([np.array(partition['negative'])+i*dataset.data.shape[0] for i in range(num_experiments)]).flatten()\n",
        "##\n",
        "partition['positive_transformed_train']=np.array([np.array(partition['positive_train'])+i*dataset.data.shape[0] for i in range(num_experiments)]).flatten()\n",
        "partition['positive_transformed_test']=np.setdiff1d(partition['positive_transformed'],partition['positive_transformed_train'])\n",
        "\n",
        "partition['negative_transformed_train']=np.array([np.array(partition['negative_train'])+i*dataset.data.shape[0] for i in range(num_experiments)]).flatten()\n",
        "partition['negative_transformed_test']=np.setdiff1d(partition['negative_transformed'],partition['negative_transformed_train'])"
      ],
      "execution_count": 0,
      "outputs": []
    },
    {
      "cell_type": "code",
      "metadata": {
        "id": "e1reGr4vjWoM",
        "colab_type": "code",
        "colab": {}
      },
      "source": [
        "std_scaler=preprocessing.StandardScaler().fit(dataset.data[partition['negative_train']])\n",
        "dataset.data=std_scaler.transform(dataset.data)"
      ],
      "execution_count": 0,
      "outputs": []
    },
    {
      "cell_type": "code",
      "metadata": {
        "id": "ZRWRCoe3jckB",
        "colab_type": "code",
        "colab": {}
      },
      "source": [
        "#Pasando a tensor para trabajar con pytorch\n",
        "import numpy as np\n",
        "X_tensor=torch.tensor(np.array(dataset.data))\n",
        "X_tensor=X_tensor.float()"
      ],
      "execution_count": 0,
      "outputs": []
    },
    {
      "cell_type": "code",
      "metadata": {
        "id": "0B5SMzdsjgi3",
        "colab_type": "code",
        "colab": {}
      },
      "source": [
        "#Generando la \n",
        "import torch\n",
        "from torchvision import datasets, transforms\n",
        "from torch import nn, optim\n",
        "import torch.nn.functional as F\n",
        "\n",
        "\n",
        "class Classifier(nn.Module):\n",
        "    def __init__(self):\n",
        "        super().__init__()\n",
        "        self.fc1 = nn.Linear(64, 120)\n",
        "        self.fc2 = nn.Linear(120, 64)\n",
        "        self.fc3 = nn.Linear(64, 120)\n",
        "        self.fc4 = nn.Linear(120, 64)\n",
        "       \n",
        "    def forward(self, x,layer=1):\n",
        "        # make sure input tensor is flattened\n",
        "        x = x.view(-1,x.shape[0])\n",
        "        for i in range(layer):\n",
        "          x = F.relu(self.fc1(x))\n",
        "          x = F.celu(self.fc2(x))\n",
        "        return x\n",
        "      \n",
        "    def forward_1(self, x,layer=1):\n",
        "        # make sure input tensor is flattened\n",
        "        x = x.view(-1,x.shape[0])\n",
        "        for i in range(layer):\n",
        "          x = F.relu(self.fc3(x))\n",
        "          x = F.celu(self.fc4(x))\n",
        "        return x"
      ],
      "execution_count": 0,
      "outputs": []
    },
    {
      "cell_type": "code",
      "metadata": {
        "id": "1XoPDwrujki4",
        "colab_type": "code",
        "colab": {}
      },
      "source": [
        "torch.manual_seed(3)\n",
        "label=np.empty((0))\n",
        "rep=2\n",
        "\n",
        "val_2=torch.Tensor(0,64)\n",
        "\n",
        "\n",
        "for idx in range(num_experiments):\n",
        "  temp=Classifier()\n",
        "  if idx<=10:\n",
        "    val_1=torch.Tensor(0,64)\n",
        "    for x in X_tensor:\n",
        "      val_1=torch.cat((val_1,temp.forward(x,rep)))\n",
        "      label=np.append(label,idx)\n",
        "    scaler = preprocessing.StandardScaler().fit(val_1.detach().numpy())\n",
        "    val_1=torch.tensor(scaler.fit_transform(val_1.detach().numpy()))\n",
        "  \n",
        "  if idx>10:\n",
        "    val_1=torch.Tensor(0,64)\n",
        "    for x in X_tensor:\n",
        "      val_1=torch.cat((val_1,temp.forward_1(x,rep)))\n",
        "      label=np.append(label,idx)\n",
        "    scaler = preprocessing.StandardScaler().fit(val_1.detach().numpy())\n",
        "    val_1=torch.tensor(scaler.fit_transform(val_1.detach().numpy()))\n",
        "  \n",
        "      \n",
        "  val_2=torch.cat((val_2,val_1))\n",
        "\n",
        "val=val_2.detach().numpy()\n"
      ],
      "execution_count": 0,
      "outputs": []
    },
    {
      "cell_type": "code",
      "metadata": {
        "id": "BHYQ19fMjomO",
        "colab_type": "code",
        "outputId": "475acff6-ae26-49d4-8f1e-e690162e0040",
        "colab": {
          "base_uri": "https://localhost:8080/",
          "height": 134
        }
      },
      "source": [
        "from xgboost import XGBClassifier\n",
        "from sklearn.ensemble import RandomForestClassifier\n",
        "xgbc=XGBClassifier()\n",
        "xgbc=XGBClassifier(n_estimators=150)\n",
        "xgbc.fit(val[partition['negative_transformed_train']],\n",
        "         label[partition['negative_transformed_train']])\n"
      ],
      "execution_count": 93,
      "outputs": [
        {
          "output_type": "execute_result",
          "data": {
            "text/plain": [
              "XGBClassifier(base_score=0.5, booster='gbtree', colsample_bylevel=1,\n",
              "              colsample_bynode=1, colsample_bytree=1, gamma=0,\n",
              "              learning_rate=0.1, max_delta_step=0, max_depth=3,\n",
              "              min_child_weight=1, missing=None, n_estimators=150, n_jobs=1,\n",
              "              nthread=None, objective='multi:softprob', random_state=0,\n",
              "              reg_alpha=0, reg_lambda=1, scale_pos_weight=1, seed=None,\n",
              "              silent=None, subsample=1, verbosity=1)"
            ]
          },
          "metadata": {
            "tags": []
          },
          "execution_count": 93
        }
      ]
    },
    {
      "cell_type": "code",
      "metadata": {
        "id": "GK1AP2NrjsIe",
        "colab_type": "code",
        "colab": {}
      },
      "source": [
        "step=dataset.data.shape[0]\n",
        "\n",
        "result=np.exp(xgbc.predict_proba(val)).sum(axis=1)\n",
        "\n",
        "normality_score=np.array([np.mean([result[i+j*step] for j in range(num_experiments)]) for i in range(step)])"
      ],
      "execution_count": 0,
      "outputs": []
    },
    {
      "cell_type": "code",
      "metadata": {
        "id": "eHU9guV0jvPf",
        "colab_type": "code",
        "colab": {}
      },
      "source": [
        "def ecdf(data,right=True):\n",
        "    \"\"\" Compute ECDF \"\"\"\n",
        "    x = np.sort(data)\n",
        "    if not(right):\n",
        "      x=x[::-1]\n",
        "    n = x.size\n",
        "    y = np.arange(1, n+1) / n\n",
        "    return(x,y)\n",
        "  "
      ],
      "execution_count": 0,
      "outputs": []
    },
    {
      "cell_type": "code",
      "metadata": {
        "id": "S5qR1JGkLG7q",
        "colab_type": "code",
        "outputId": "757ed510-133a-4da8-b733-dbfb041d4500",
        "colab": {
          "base_uri": "https://localhost:8080/",
          "height": 298
        }
      },
      "source": [
        "import numpy as np\n",
        "import matplotlib.pyplot as plt\n",
        "\n",
        "from scipy.interpolate import splrep, splev\n",
        "\n",
        "(x,y)=ecdf(normality_score[partition['positive']],right=False)\n",
        "\n",
        "plt.plot(x,y,label='Outliers != 7')\n",
        "\n",
        "(x,y)=ecdf(normality_score[partition['negative_test']])\n",
        "\n",
        "bspl = splrep(x,y,s=6)\n",
        "bspl_y = splev(x,bspl)\n",
        "plt.plot(x,y,label='Normal Class (7)')\n",
        "\n",
        "plt.legend()\n",
        "print(\"For understanding \")\n",
        "plt.title(\"Normality Score\")\n",
        "plt.show()"
      ],
      "execution_count": 96,
      "outputs": [
        {
          "output_type": "stream",
          "text": [
            "For understanding \n"
          ],
          "name": "stdout"
        },
        {
          "output_type": "display_data",
          "data": {
            "image/png": "[encoded data removed]",
            "text/plain": [
              "<Figure size 432x288 with 1 Axes>"
            ]
          },
          "metadata": {
            "tags": []
          }
        }
      ]
    },
    {
      "cell_type": "code",
      "metadata": {
        "id": "hbClXoWcNdq7",
        "colab_type": "code",
        "outputId": "7e7663a9-4b0b-4c6e-e7f2-d62bcfaa6ba2",
        "colab": {
          "base_uri": "https://localhost:8080/",
          "height": 281
        }
      },
      "source": [
        "import seaborn as sns\n",
        "\n",
        "plt.figure()\n",
        "\n",
        "a=sns.distplot(normality_score[partition['positive']],label='Outliers (!= 7)')\n",
        "a=sns.distplot(normality_score[partition['negative_test']],label=\"Normal Class (7)\")\n",
        "\n",
        "plt.title(\"Histogram of scoring function\")\n",
        "plt.legend()\n",
        "plt.show()"
      ],
      "execution_count": 97,
      "outputs": [
        {
          "output_type": "display_data",
          "data": {
            "image/png": "[encoded data removed]",
            "text/plain": [
              "<Figure size 432x288 with 1 Axes>"
            ]
          },
          "metadata": {
            "tags": []
          }
        }
      ]
    }
  ]
}